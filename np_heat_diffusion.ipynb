{
 "cells": [
  {
   "cell_type": "markdown",
   "metadata": {},
   "source": [
    "# Project Notebook\n",
    "\n",
    "\n"
   ]
  },
  {
   "cell_type": "markdown",
   "metadata": {},
   "source": [
    "The task is to produce a neural process which is tailored to solve a physical system.  In this case, the physical system to be solved is the heat diffusion across a two-dimensional grid.  There are three main changes I wish to make to the standard neural process.  These are listed below, along with a brief description of their physical motivation.\n",
    "\n",
    "#### 1. Convolutional Encoder and Decoder block \n",
    "Spatial equivariance is built into the system, since the heat diffusion function does not have a spatially dependent forcing term.  All terms are based on derivatives, which means the solution obeys spatial equivariance.  I hope to replicate this feature in the architecture, allowing for an easier learning process.\n",
    "#### 2. Learning using Privileged Information\n",
    "Learning using privileged information (LUPI) allows the model, while training, to have access to `privileged information' (PI).  PI could be anything important the model should be aware of.  For example, if the total energy in the grid is conserved, imput this as PI.  When it comes to test time, the model does not have access to any PI.  The hope is that the model can infer what the PI should be (e.g. by figuring out what the total energy is and conserving it), making for a faster learning process.  There is a wide variety of PI to be used and experimented with.  A few more examples are: initial conditions, final conditions, decay constant, entropy measure.\n",
    "\n",
    "The way the PI is implemented is through an encoder which runs separately to the usual encoder.  The PI embedding is then aggregated with the embedding of the data using a residual neural network; we do not want the PI to dominate the learning, but merely to add a `first order correction' to the learning process.  The good thing about this structure is that the PI can be added to any encoder block (e.g. flat encoder or convolutional encoder)\n",
    "\n",
    "#### 3. Time-Order Respecting Aggregator\n",
    "In a neural process, the embeddings of the data at different times, $t_i$, are aggregated with a permutation invariant aggregator.  This is not usually useful for physical processes, as there tends to be a time-respecting process such as increase in entropy (in this case, diffusion of heat).  Therefore, it might be useful to reflect this in the aggregator.  The aggregator is such that there is no information leak from future to past - it imposes causality.\n",
    "\n",
    "The aggregator could also be designed to reflect temporal equivariance, for the same reasons as the spatial equivariance: the diffusion equation involves no terms which depend explicitly on time, but rather only the derivative with resepct to time.  If the model is temporally equivariant, it may perform much better on extrapolation tasks (as it is not completely `blind' when it heads out of the sample, having learnt temporal behaviour)\n",
    "\n",
    "One possible choice for this is to allow the model to `learn' these features by implementing a multi-head attention network.  However, with this option there is far less control over which physical concepts I am imposing.\n",
    "\n",
    "\n",
    "I hope these three changes will improve on the most basic vanilla neural process architecture to learn the heat diffusion behaviour over a two-dimensional grid, as they are all grounded in physical concepts. "
   ]
  },
  {
   "cell_type": "code",
   "execution_count": 9,
   "metadata": {},
   "outputs": [],
   "source": [
    "import torch\n",
    "import pandas as pd\n",
    "import matplotlib.pyplot as plt\n",
    "import numpy as np\n",
    "from torch.utils.data import Dataset, DataLoader\n",
    "from torchvision import datasets, transforms\n",
    "from scipy.integrate import odeint\n",
    "\n",
    "\n",
    "# grab the neural process functions from Emilien Dupont's library called neural-processes\n",
    "import sys\n",
    "\n",
    "sys.path.insert(0, \"./neural-processes\")\n",
    "\n",
    "# neural_process.py and training.py exist in neural-processes folder\n",
    "import neural_process\n",
    "from neural_process import NeuralProcessConv, NeuralProcess, NeuralProcessImg\n",
    "from training import NeuralProcessTrainer\n",
    "from utils import context_target_split\n",
    "from heat_diffusion_dataset import Initial_Conditions, Diffusion_Data, RestoredData\n",
    "from visualise import *\n",
    "\n",
    "# device is cuda something something ?\n",
    "\n"
   ]
  },
  {
   "cell_type": "markdown",
   "metadata": {},
   "source": [
    "# Diffusion Data\n",
    "\n",
    "Heat Diffusion data was chosen as a suitable dataset to test my model.  The equation which the data follows is \n",
    "\n",
    "\\begin{equation}\n",
    "\\frac{\\partial u(x, y, t)}{\\partial t} = D \\nabla^2 u(x, y, t)\n",
    "\\end{equation} \n",
    "\n",
    "The boundary conditions are chosen to be Neumann Boundary Conditions, specifying the normal gradient to be zero at the boundaries\n",
    "\n",
    "\\begin{equation}\n",
    "\\left. \\frac{\\partial u}{\\partial x} \\right|_{x = 0, L} = \\left. \\frac{\\partial u}{\\partial y}\\right|_{y=0, L} = 0\n",
    "\\end{equation}\n",
    "\n",
    "These boundary conditions ensure heat remains inside the grid and cannot escape (the flux through the boundary is zero).  There are no sources or sinks, so the total heat energy in the grid is conserved.\n",
    "\n",
    "The variation between datasets lies in the initial conditions.  There are three parameters for the initial conditions which are changed. \n",
    "1. Initial temperature \n",
    "2. Location of initial temperature spike\n",
    "3. Broadness of initial temperature spike \n",
    "\n",
    "The overall heat energy in the grid therefore can change from dataset to dataset, but remains constant within each one.  The diffusion coefficient is also the same for each dataset.  This could replicate, for example, heat diffusion in a fixed medium with varying initial conditions.\n",
    "\n",
    "Finite difference method (FDM) is used to solve equation 1.  The Laplacian is calculated using the five-point stencil finite difference method *Appendix.  This posed a difficulty when the initial conditions contained a discontinuous jump in temperature because Laplacian would become very large near the jump points.  To solve this issue, instead of implementing a different more advanced solver such as finite element methods (which may take a longer time to compute), a Gaussian filter was applied to smooth the initial conditions *Appendix.  The Gaussian filter was imported from `scipy.ndimage` module.\n",
    "\n",
    "FDM becomes unstable when $\\Delta t \\leq \\frac{\\Delta x^2}{4D}$ *appendix, reference"
   ]
  },
  {
   "cell_type": "code",
   "execution_count": 10,
   "metadata": {},
   "outputs": [],
   "source": [
    "dimensions = {\n",
    "    't_dim' : 1,\n",
    "    'y_dim' : 2500,\n",
    "    'r_dim' : 1024,\n",
    "    'z_dim' : 1024,\n",
    "    'h_dim' : 1024,\n",
    "    'z_dim' : 1024,\n",
    "    'max_iter_time' : 100,\n",
    "    'grid_size' : 50,\n",
    "    'num_samples' : 80,\n",
    "    'num_context' : 25,\n",
    "    'num_target' : 25,\n",
    "    'batch_size' : 2,\n",
    "    'num_channels' : 128,\n",
    "    'pi_dim' : 4\n",
    "}\n",
    "\n",
    "assert dimensions['grid_size']**2 == dimensions['y_dim']\n",
    "assert dimensions['num_context'] + dimensions['num_target'] <= dimensions['max_iter_time']\n",
    "\n",
    "# parameters\n",
    "grid_size = dimensions['grid_size']\n",
    "num_samples = dimensions['num_samples']\n",
    "square_range = (5, 15) # side length of initial hot square\n",
    "temp_range = (1.0, 2.0)\n",
    "diffusion_coef = 0.25 * dimensions['max_iter_time'] # upper limit for stable FDM solver"
   ]
  },
  {
   "cell_type": "code",
   "execution_count": 11,
   "metadata": {},
   "outputs": [
    {
     "data": {
      "image/png": "[encoded data removed]",
      "text/plain": [
       "<Figure size 640x480 with 2 Axes>"
      ]
     },
     "metadata": {},
     "output_type": "display_data"
    },
    {
     "data": {
      "image/png": "[encoded data removed]",
      "text/plain": [
       "<Figure size 640x480 with 2 Axes>"
      ]
     },
     "metadata": {},
     "output_type": "display_data"
    }
   ],
   "source": [
    "''' \n",
    "RUN TO RE-GENERATE DATA\n",
    "'''\n",
    "\n",
    "initial_conditions = Initial_Conditions(\n",
    "    max_iter_time=dimensions['max_iter_time'], grid_size=grid_size\n",
    ")\n",
    "\n",
    "meta_data = Diffusion_Data(\n",
    "    num_samples=num_samples,\n",
    "    max_iter_time=dimensions['max_iter_time'],\n",
    "    grid_size=grid_size,\n",
    "    initial_conditions=initial_conditions,\n",
    "    square_range=square_range,\n",
    "    temp_range=temp_range,\n",
    "    diffusion_coef=diffusion_coef,\n",
    "    sigma=3\n",
    ")\n",
    "\n",
    "time_array = meta_data.time_array\n",
    "meta_data.visualise_solution(show_until=2, i=0)\n",
    "\n",
    "\n",
    "# meta_data.save_tensors()"
   ]
  },
  {
   "cell_type": "markdown",
   "metadata": {},
   "source": [
    "## FLAT NEURAL PROCESS TRAINING"
   ]
  },
  {
   "cell_type": "code",
   "execution_count": null,
   "metadata": {},
   "outputs": [],
   "source": [
    "neuralprocess = NeuralProcess(dimensions)\n",
    "\n",
    "data_loader = DataLoader(meta_data, batch_size=dimensions['batch_size'], shuffle=True)\n",
    "optimizer = torch.optim.Adam(neuralprocess.parameters(), lr=3e-4)\n",
    "np_trainer = NeuralProcessTrainer(\n",
    "    \"cuda\",\n",
    "    neuralprocess,\n",
    "    optimizer,\n",
    "    num_context_range=(dimensions['num_context'], dimensions['num_context']),\n",
    "    num_extra_target_range=(dimensions['num_target'], dimensions['num_target']),\n",
    "    print_freq=200,\n",
    ")\n",
    "\n",
    "neuralprocess.training = True\n",
    "np_trainer.train(data_loader, 1000)"
   ]
  },
  {
   "cell_type": "markdown",
   "metadata": {},
   "source": [
    "## CONVOLUTIONAL NEURAL PROCESS TRAINING"
   ]
  },
  {
   "cell_type": "markdown",
   "metadata": {},
   "source": [
    "#### Hyperparameters\n",
    "- h_dim\n",
    "- r_dim\n",
    "- z_dim\n",
    "- batch_size\n",
    "- num_context\n",
    "- num_target\n",
    "- lr\n",
    "\n",
    "#### Hidden Hyperparameters\n",
    "- Number of linear layers after convolution in Net\n",
    "- Number of linear layers in TransposeConvNet\n",
    "- Number of channels in Net and TransposeConvNet\n",
    "- Number of layers in Net and TransposeConvNet\n",
    "- Kernels, Dilations, Paddings\n",
    "\n",
    "#### Current Convolution Summary \n",
    "\n",
    "Net: 2 layers with 32 'hidden' channels, followed by 3 Linear layers with h_dim hidden.\n",
    "\n",
    "TNet: 1 Linear layer, followed by 2 transpose convolutional layers with 32 'hidden' channels.\n",
    "\n",
    "\n",
    "#### Purpose of the Convolution\n",
    "- Create spatially equivariant features in the grids\n",
    "- Encourage principles of locality when learning\n",
    "- Temporal equivariance in solution (periodicity encouraged?) - this is not happening currently as the temporal aspect only enters after the convolution\n",
    "\n",
    "TODO: before moving on \n",
    "- Debug the conv neural process (write some tests?)\n",
    "- Implement tests on standard NP \n",
    "- Compare performance  "
   ]
  },
  {
   "cell_type": "code",
   "execution_count": 12,
   "metadata": {},
   "outputs": [
    {
     "name": "stdout",
     "output_type": "stream",
     "text": [
      "Epoch: 0, Avg_loss: 98308.933203125\n",
      "Epoch: 1, Avg_loss: 74109.31435546876\n",
      "Epoch: 2, Avg_loss: 70327.891796875\n",
      "Epoch: 3, Avg_loss: 65229.81298828125\n",
      "iteration 200, loss 55250.328\n",
      "Epoch: 4, Avg_loss: 59054.9689453125\n",
      "Epoch: 5, Avg_loss: 56042.25263671875\n",
      "Epoch: 6, Avg_loss: 53181.41103515625\n",
      "Epoch: 7, Avg_loss: 48311.18671875\n",
      "Epoch: 8, Avg_loss: 45337.61123046875\n",
      "iteration 400, loss 37968.703\n",
      "Epoch: 9, Avg_loss: 38708.58334960938\n"
     ]
    },
    {
     "ename": "KeyboardInterrupt",
     "evalue": "",
     "output_type": "error",
     "traceback": [
      "\u001b[0;31m---------------------------------------------------------------------------\u001b[0m",
      "\u001b[0;31mKeyboardInterrupt\u001b[0m                         Traceback (most recent call last)",
      "Cell \u001b[0;32mIn [12], line 22\u001b[0m\n\u001b[1;32m     11\u001b[0m conv_np_trainer \u001b[38;5;241m=\u001b[39m NeuralProcessTrainer(\n\u001b[1;32m     12\u001b[0m     \u001b[38;5;124m\"\u001b[39m\u001b[38;5;124mcuda\u001b[39m\u001b[38;5;124m\"\u001b[39m,\n\u001b[1;32m     13\u001b[0m     conv_neuralprocess,\n\u001b[0;32m   (...)\u001b[0m\n\u001b[1;32m     18\u001b[0m     grid_size\u001b[38;5;241m=\u001b[39mgrid_size,\n\u001b[1;32m     19\u001b[0m )\n\u001b[1;32m     21\u001b[0m conv_neuralprocess\u001b[38;5;241m.\u001b[39mtraining \u001b[38;5;241m=\u001b[39m \u001b[38;5;28;01mTrue\u001b[39;00m\n\u001b[0;32m---> 22\u001b[0m \u001b[43mconv_np_trainer\u001b[49m\u001b[38;5;241;43m.\u001b[39;49m\u001b[43mtrain\u001b[49m\u001b[43m(\u001b[49m\u001b[43mdata_loader\u001b[49m\u001b[43m,\u001b[49m\u001b[43m \u001b[49m\u001b[38;5;241;43m1000\u001b[39;49m\u001b[43m)\u001b[49m\n",
      "File \u001b[0;32m~/Documents/part_III_project/./neural-processes/training.py:94\u001b[0m, in \u001b[0;36mNeuralProcessTrainer.train\u001b[0;34m(self, data_loader, epochs)\u001b[0m\n\u001b[1;32m     85\u001b[0m     x, y, _ \u001b[39m=\u001b[39m data\n\u001b[1;32m     86\u001b[0m     (\n\u001b[1;32m     87\u001b[0m         x_context,\n\u001b[1;32m     88\u001b[0m         y_context,\n\u001b[0;32m   (...)\u001b[0m\n\u001b[1;32m     92\u001b[0m         pi_target,\n\u001b[1;32m     93\u001b[0m     ) \u001b[39m=\u001b[39m context_target_split(x, y, \u001b[39mNone\u001b[39;00m, num_context, num_extra_target)\n\u001b[0;32m---> 94\u001b[0m     p_y_pred, q_target, q_context \u001b[39m=\u001b[39m \u001b[39mself\u001b[39;49m\u001b[39m.\u001b[39;49mneural_process(\n\u001b[1;32m     95\u001b[0m         x_context, y_context, x_target, y_target\n\u001b[1;32m     96\u001b[0m     )\n\u001b[1;32m     98\u001b[0m \u001b[39melse\u001b[39;00m:\n\u001b[1;32m     99\u001b[0m     x, y, pi \u001b[39m=\u001b[39m data\n",
      "File \u001b[0;32m/usr/local/lib/python3.9/site-packages/torch/nn/modules/module.py:1194\u001b[0m, in \u001b[0;36mModule._call_impl\u001b[0;34m(self, *input, **kwargs)\u001b[0m\n\u001b[1;32m   1190\u001b[0m \u001b[39m# If we don't have any hooks, we want to skip the rest of the logic in\u001b[39;00m\n\u001b[1;32m   1191\u001b[0m \u001b[39m# this function, and just call forward.\u001b[39;00m\n\u001b[1;32m   1192\u001b[0m \u001b[39mif\u001b[39;00m \u001b[39mnot\u001b[39;00m (\u001b[39mself\u001b[39m\u001b[39m.\u001b[39m_backward_hooks \u001b[39mor\u001b[39;00m \u001b[39mself\u001b[39m\u001b[39m.\u001b[39m_forward_hooks \u001b[39mor\u001b[39;00m \u001b[39mself\u001b[39m\u001b[39m.\u001b[39m_forward_pre_hooks \u001b[39mor\u001b[39;00m _global_backward_hooks\n\u001b[1;32m   1193\u001b[0m         \u001b[39mor\u001b[39;00m _global_forward_hooks \u001b[39mor\u001b[39;00m _global_forward_pre_hooks):\n\u001b[0;32m-> 1194\u001b[0m     \u001b[39mreturn\u001b[39;00m forward_call(\u001b[39m*\u001b[39;49m\u001b[39minput\u001b[39;49m, \u001b[39m*\u001b[39;49m\u001b[39m*\u001b[39;49mkwargs)\n\u001b[1;32m   1195\u001b[0m \u001b[39m# Do not call functions when jit is used\u001b[39;00m\n\u001b[1;32m   1196\u001b[0m full_backward_hooks, non_full_backward_hooks \u001b[39m=\u001b[39m [], []\n",
      "File \u001b[0;32m~/Documents/part_III_project/./neural-processes/neural_process.py:154\u001b[0m, in \u001b[0;36mNeuralProcessConv.forward\u001b[0;34m(self, x_context, y_context, x_target, y_target)\u001b[0m\n\u001b[1;32m    151\u001b[0m z_sample \u001b[39m=\u001b[39m q_target\u001b[39m.\u001b[39mrsample()\n\u001b[1;32m    152\u001b[0m \u001b[39m# Get parameters of output distribution\u001b[39;00m\n\u001b[1;32m    153\u001b[0m \u001b[39m# Decode maps target x and z_sample to a prediction\u001b[39;00m\n\u001b[0;32m--> 154\u001b[0m y_pred_mu, y_pred_sigma \u001b[39m=\u001b[39m \u001b[39mself\u001b[39;49m\u001b[39m.\u001b[39;49mxz_to_y(x_target, z_sample)\n\u001b[1;32m    155\u001b[0m p_y_pred \u001b[39m=\u001b[39m Normal(y_pred_mu, y_pred_sigma)\n\u001b[1;32m    157\u001b[0m \u001b[39mreturn\u001b[39;00m p_y_pred, q_target, q_context\n",
      "File \u001b[0;32m/usr/local/lib/python3.9/site-packages/torch/nn/modules/module.py:1194\u001b[0m, in \u001b[0;36mModule._call_impl\u001b[0;34m(self, *input, **kwargs)\u001b[0m\n\u001b[1;32m   1190\u001b[0m \u001b[39m# If we don't have any hooks, we want to skip the rest of the logic in\u001b[39;00m\n\u001b[1;32m   1191\u001b[0m \u001b[39m# this function, and just call forward.\u001b[39;00m\n\u001b[1;32m   1192\u001b[0m \u001b[39mif\u001b[39;00m \u001b[39mnot\u001b[39;00m (\u001b[39mself\u001b[39m\u001b[39m.\u001b[39m_backward_hooks \u001b[39mor\u001b[39;00m \u001b[39mself\u001b[39m\u001b[39m.\u001b[39m_forward_hooks \u001b[39mor\u001b[39;00m \u001b[39mself\u001b[39m\u001b[39m.\u001b[39m_forward_pre_hooks \u001b[39mor\u001b[39;00m _global_backward_hooks\n\u001b[1;32m   1193\u001b[0m         \u001b[39mor\u001b[39;00m _global_forward_hooks \u001b[39mor\u001b[39;00m _global_forward_pre_hooks):\n\u001b[0;32m-> 1194\u001b[0m     \u001b[39mreturn\u001b[39;00m forward_call(\u001b[39m*\u001b[39;49m\u001b[39minput\u001b[39;49m, \u001b[39m*\u001b[39;49m\u001b[39m*\u001b[39;49mkwargs)\n\u001b[1;32m   1195\u001b[0m \u001b[39m# Do not call functions when jit is used\u001b[39;00m\n\u001b[1;32m   1196\u001b[0m full_backward_hooks, non_full_backward_hooks \u001b[39m=\u001b[39m [], []\n",
      "File \u001b[0;32m~/Documents/part_III_project/./neural-processes/models.py:228\u001b[0m, in \u001b[0;36mforward\u001b[0;34m(self, x, z)\u001b[0m\n\u001b[1;32m    226\u001b[0m \u001b[39m# Shape (batch_size, grid_size, grid_size)\u001b[39;00m\n\u001b[1;32m    227\u001b[0m mean_grid \u001b[39m=\u001b[39m mean_grid\u001b[39m.\u001b[39msqueeze(\u001b[39m1\u001b[39m)\n\u001b[0;32m--> 228\u001b[0m sigma_grid \u001b[39m=\u001b[39m sigma_grid\u001b[39m.\u001b[39msqueeze(\u001b[39m1\u001b[39m)\n\u001b[1;32m    230\u001b[0m \u001b[39m# Shape (batch_size, y_dim)\u001b[39;00m\n\u001b[1;32m    231\u001b[0m mean_grid \u001b[39m=\u001b[39m mean_grid\u001b[39m.\u001b[39mreshape(batch_size, num_points, \u001b[39mself\u001b[39m\u001b[39m.\u001b[39my_dim)\n",
      "File \u001b[0;32m/usr/local/lib/python3.9/site-packages/torch/nn/modules/module.py:1194\u001b[0m, in \u001b[0;36mModule._call_impl\u001b[0;34m(self, *input, **kwargs)\u001b[0m\n\u001b[1;32m   1190\u001b[0m \u001b[39m# If we don't have any hooks, we want to skip the rest of the logic in\u001b[39;00m\n\u001b[1;32m   1191\u001b[0m \u001b[39m# this function, and just call forward.\u001b[39;00m\n\u001b[1;32m   1192\u001b[0m \u001b[39mif\u001b[39;00m \u001b[39mnot\u001b[39;00m (\u001b[39mself\u001b[39m\u001b[39m.\u001b[39m_backward_hooks \u001b[39mor\u001b[39;00m \u001b[39mself\u001b[39m\u001b[39m.\u001b[39m_forward_hooks \u001b[39mor\u001b[39;00m \u001b[39mself\u001b[39m\u001b[39m.\u001b[39m_forward_pre_hooks \u001b[39mor\u001b[39;00m _global_backward_hooks\n\u001b[1;32m   1193\u001b[0m         \u001b[39mor\u001b[39;00m _global_forward_hooks \u001b[39mor\u001b[39;00m _global_forward_pre_hooks):\n\u001b[0;32m-> 1194\u001b[0m     \u001b[39mreturn\u001b[39;00m forward_call(\u001b[39m*\u001b[39;49m\u001b[39minput\u001b[39;49m, \u001b[39m*\u001b[39;49m\u001b[39m*\u001b[39;49mkwargs)\n\u001b[1;32m   1195\u001b[0m \u001b[39m# Do not call functions when jit is used\u001b[39;00m\n\u001b[1;32m   1196\u001b[0m full_backward_hooks, non_full_backward_hooks \u001b[39m=\u001b[39m [], []\n",
      "File \u001b[0;32m/usr/local/lib/python3.9/site-packages/torch/nn/modules/container.py:204\u001b[0m, in \u001b[0;36mSequential.forward\u001b[0;34m(self, input)\u001b[0m\n\u001b[1;32m    202\u001b[0m \u001b[39mdef\u001b[39;00m \u001b[39mforward\u001b[39m(\u001b[39mself\u001b[39m, \u001b[39minput\u001b[39m):\n\u001b[1;32m    203\u001b[0m     \u001b[39mfor\u001b[39;00m module \u001b[39min\u001b[39;00m \u001b[39mself\u001b[39m:\n\u001b[0;32m--> 204\u001b[0m         \u001b[39minput\u001b[39m \u001b[39m=\u001b[39m module(\u001b[39minput\u001b[39;49m)\n\u001b[1;32m    205\u001b[0m     \u001b[39mreturn\u001b[39;00m \u001b[39minput\u001b[39m\n",
      "File \u001b[0;32m/usr/local/lib/python3.9/site-packages/torch/nn/modules/module.py:1194\u001b[0m, in \u001b[0;36mModule._call_impl\u001b[0;34m(self, *input, **kwargs)\u001b[0m\n\u001b[1;32m   1190\u001b[0m \u001b[39m# If we don't have any hooks, we want to skip the rest of the logic in\u001b[39;00m\n\u001b[1;32m   1191\u001b[0m \u001b[39m# this function, and just call forward.\u001b[39;00m\n\u001b[1;32m   1192\u001b[0m \u001b[39mif\u001b[39;00m \u001b[39mnot\u001b[39;00m (\u001b[39mself\u001b[39m\u001b[39m.\u001b[39m_backward_hooks \u001b[39mor\u001b[39;00m \u001b[39mself\u001b[39m\u001b[39m.\u001b[39m_forward_hooks \u001b[39mor\u001b[39;00m \u001b[39mself\u001b[39m\u001b[39m.\u001b[39m_forward_pre_hooks \u001b[39mor\u001b[39;00m _global_backward_hooks\n\u001b[1;32m   1193\u001b[0m         \u001b[39mor\u001b[39;00m _global_forward_hooks \u001b[39mor\u001b[39;00m _global_forward_pre_hooks):\n\u001b[0;32m-> 1194\u001b[0m     \u001b[39mreturn\u001b[39;00m forward_call(\u001b[39m*\u001b[39;49m\u001b[39minput\u001b[39;49m, \u001b[39m*\u001b[39;49m\u001b[39m*\u001b[39;49mkwargs)\n\u001b[1;32m   1195\u001b[0m \u001b[39m# Do not call functions when jit is used\u001b[39;00m\n\u001b[1;32m   1196\u001b[0m full_backward_hooks, non_full_backward_hooks \u001b[39m=\u001b[39m [], []\n",
      "File \u001b[0;32m/usr/local/lib/python3.9/site-packages/torch/nn/modules/conv.py:956\u001b[0m, in \u001b[0;36mConvTranspose2d.forward\u001b[0;34m(self, input, output_size)\u001b[0m\n\u001b[1;32m    951\u001b[0m num_spatial_dims \u001b[39m=\u001b[39m \u001b[39m2\u001b[39m\n\u001b[1;32m    952\u001b[0m output_padding \u001b[39m=\u001b[39m \u001b[39mself\u001b[39m\u001b[39m.\u001b[39m_output_padding(\n\u001b[1;32m    953\u001b[0m     \u001b[39minput\u001b[39m, output_size, \u001b[39mself\u001b[39m\u001b[39m.\u001b[39mstride, \u001b[39mself\u001b[39m\u001b[39m.\u001b[39mpadding, \u001b[39mself\u001b[39m\u001b[39m.\u001b[39mkernel_size,  \u001b[39m# type: ignore[arg-type]\u001b[39;00m\n\u001b[1;32m    954\u001b[0m     num_spatial_dims, \u001b[39mself\u001b[39m\u001b[39m.\u001b[39mdilation)  \u001b[39m# type: ignore[arg-type]\u001b[39;00m\n\u001b[0;32m--> 956\u001b[0m \u001b[39mreturn\u001b[39;00m F\u001b[39m.\u001b[39;49mconv_transpose2d(\n\u001b[1;32m    957\u001b[0m     \u001b[39minput\u001b[39;49m, \u001b[39mself\u001b[39;49m\u001b[39m.\u001b[39;49mweight, \u001b[39mself\u001b[39;49m\u001b[39m.\u001b[39;49mbias, \u001b[39mself\u001b[39;49m\u001b[39m.\u001b[39;49mstride, \u001b[39mself\u001b[39;49m\u001b[39m.\u001b[39;49mpadding,\n\u001b[1;32m    958\u001b[0m     output_padding, \u001b[39mself\u001b[39;49m\u001b[39m.\u001b[39;49mgroups, \u001b[39mself\u001b[39;49m\u001b[39m.\u001b[39;49mdilation)\n",
      "\u001b[0;31mKeyboardInterrupt\u001b[0m: "
     ]
    }
   ],
   "source": [
    "\"\"\" \n",
    "TODO \n",
    "- put time into channels not flat layer DONE - also kept in flat layer\n",
    "- play with hyperparams until good outcome \n",
    "\"\"\"\n",
    "\n",
    "conv_neuralprocess = NeuralProcessConv(dimensions)\n",
    "\n",
    "data_loader = DataLoader(meta_data, batch_size=dimensions['batch_size'], shuffle=True)\n",
    "optimizer = torch.optim.Adam(conv_neuralprocess.parameters(), lr=1e-3)\n",
    "conv_np_trainer = NeuralProcessTrainer(\n",
    "    \"cuda\",\n",
    "    conv_neuralprocess,\n",
    "    optimizer,\n",
    "    num_context_range=(dimensions['num_context'], dimensions['num_context']),\n",
    "    num_extra_target_range=(dimensions['num_target'], dimensions['num_target']),\n",
    "    print_freq=200,\n",
    "    grid_size=dimensions['grid_size'],\n",
    ")\n",
    "\n",
    "conv_neuralprocess.training = True\n",
    "conv_np_trainer.train(data_loader, 1000)"
   ]
  },
  {
   "cell_type": "markdown",
   "metadata": {},
   "source": [
    "## L.U.P.I. FOR FLAT NP"
   ]
  },
  {
   "cell_type": "code",
   "execution_count": null,
   "metadata": {},
   "outputs": [],
   "source": [
    "neuralprocess_pi = NeuralProcess(dimensions)\n",
    "\n",
    "data_loader = DataLoader(meta_data, batch_size=dimensions['batch_size'], shuffle=True)\n",
    "optimizer = torch.optim.Adam(neuralprocess_pi.parameters(), lr=3e-4)\n",
    "np_trainer_pi = NeuralProcessTrainer(\n",
    "    \"cuda\",\n",
    "    neuralprocess_pi,\n",
    "    optimizer,\n",
    "    num_context_range=(dimensions['num_context'], dimensions['num_context']),\n",
    "    num_extra_target_range=(dimensions['num_target'], dimensions['num_target']),\n",
    "    print_freq=200,\n",
    ")\n",
    "\n",
    "neuralprocess_pi.training = True\n",
    "np_trainer_pi.train(data_loader, 1000)"
   ]
  },
  {
   "cell_type": "markdown",
   "metadata": {},
   "source": [
    "# TESTING"
   ]
  },
  {
   "cell_type": "code",
   "execution_count": null,
   "metadata": {},
   "outputs": [],
   "source": [
    "def test_model(neuralprocess, np_trainer, t_context, y_context, t_target, y_target):\n",
    "    # Switch to test mode\n",
    "    neuralprocess.training = False\n",
    "\n",
    "    # Extract models' distributions over t_target and grid\n",
    "    p_y_pred = neuralprocess(t_context, y_context, t_target)\n",
    "\n",
    "    # flat NP\n",
    "    y_out = p_y_pred.loc.detach().numpy()[0]\n",
    "    var_out = p_y_pred.scale.detach().numpy()[0]\n",
    "\n",
    "    # flat NP reshape\n",
    "    y_out = y_out.reshape((dimensions['max_iter_time'], dimensions['grid_size'], dimensions['grid_size']))\n",
    "    var_out = var_out.reshape((dimensions['max_iter_time'], dimensions['grid_size'], dimensions['grid_size']))\n",
    "\n",
    "    # flat NP result summary\n",
    "    result = [\n",
    "        (y_target[id, :, :], y_out[id, :, :], var_out[id, :, :])\n",
    "        for id in range(y_target.shape[0])\n",
    "    ]\n",
    "\n",
    "    loss = torch.Tensor(np_trainer.epoch_loss_history)\n",
    "\n",
    "    return result, loss\n"
   ]
  },
  {
   "cell_type": "code",
   "execution_count": null,
   "metadata": {},
   "outputs": [],
   "source": [
    "# Select which models to test\n",
    "test_convolutional_neural_process = True\n",
    "test_lupi_neural_process = False\n",
    "test_flat_neural_process = False\n",
    "\n",
    "# Extract a batch from data_loader\n",
    "for batch in data_loader:\n",
    "    break\n",
    "\n",
    "# Use batch to create random set of context points\n",
    "t, y, pi = batch\n",
    "t_context, y_context, _, _, _, _ = context_target_split(\n",
    "    t[0:1], y[0:1], pi[0:1], dimensions['num_context'], dimensions['num_target']\n",
    ")\n",
    "\n",
    "# generate random noise between 0 and 1 to feed as context\n",
    "y_noise = 1 * torch.rand(y_context.shape)\n",
    "\n",
    "# Create a set of target points corresponding to in-sample time range\n",
    "t_target = torch.linspace(0, 1, dimensions['max_iter_time'])\n",
    "t_target = t_target.unsqueeze(1).unsqueeze(0)\n",
    "\n",
    "# Extract mean of distribution\n",
    "t_out = t_target.numpy()[0]\n",
    "\n",
    "# target output\n",
    "y_target = y[0:1][0, :, :]\n",
    "y_target = y_target.reshape((dimensions['max_iter_time'], dimensions['grid_size'], dimensions['grid_size']))\n",
    "\n",
    "if test_lupi_neural_process:\n",
    "    lupi_result, lupi_loss = test_model(neuralprocess_pi, np_trainer_pi, t_context, y_context, t_target, y_target)\n",
    "    lupi_result_noise, _ = test_model(conv_neuralprocess, np_trainer_pi, t_context, y_noise, t_target, y_target)\n",
    "    \n",
    "    torch.save(lupi_result, \"./results/lupi_result.pt\")\n",
    "    torch.save(lupi_loss, \"./results/lupi_loss.pt\")\n",
    "    torch.save(lupi_result_noise, \"./results/lupi_result_noise.pt\")\n",
    "\n",
    "if test_flat_neural_process:\n",
    "    result, loss = test_model(neuralprocess, np_trainer, t_context, y_context, t_target, y_target)\n",
    "    result_noise, _ = test_model(conv_neuralprocess, np_trainer, t_context, y_noise, t_target, y_target)\n",
    "\n",
    "    torch.save(result, \"./results/np_result.pt\")\n",
    "    torch.save(loss, \"./results/loss.pt\")\n",
    "    torch.save(result_noise, \"./results/result_noise.pt\")\n",
    "\n",
    "if test_convolutional_neural_process:\n",
    "    conv_result, conv_loss = test_model(conv_neuralprocess, conv_np_trainer, t_context, y_context, t_target, y_target)\n",
    "    conv_result_noise, _ = test_model(conv_neuralprocess, conv_np_trainer, t_context, y_noise, t_target, y_target)\n",
    "\n",
    "    torch.save(conv_result, \"./results/conv_result.pt\")\n",
    "    torch.save(conv_loss, \"./results/conv_loss.pt\")\n",
    "    torch.save(conv_result_noise, \"./results/conv_result_noise.pt\")"
   ]
  },
  {
   "cell_type": "markdown",
   "metadata": {},
   "source": [
    "# Results\n"
   ]
  },
  {
   "cell_type": "code",
   "execution_count": null,
   "metadata": {},
   "outputs": [],
   "source": [
    "# assert len(result) == dimensions['max_iter_time']\n",
    "# assert len(result[0]) == 3\n",
    "# assert len(lupi_result) == dimensions['max_iter_time']\n",
    "# assert len(lupi_result[0]) == 3\n",
    "assert len(conv_result) == dimensions['max_iter_time']\n",
    "assert len(conv_result[0]) == 3\n",
    "\n",
    "\n",
    "# assert result[0][0].shape == (grid_size, grid_size)\n",
    "# assert result[0][1].shape == (grid_size, grid_size)\n",
    "# assert result[0][2].shape == (grid_size, grid_size)\n",
    "\n",
    "# assert result_noise[0][0].shape == (grid_size, grid_size)\n",
    "# assert result_noise[0][1].shape == (grid_size, grid_size)\n",
    "# assert result_noise[0][2].shape == (grid_size, grid_size)\n",
    "\n",
    "# assert lupi_result[0][0].shape == (grid_size, grid_size)\n",
    "# assert lupi_result[0][1].shape == (grid_size, grid_size)\n",
    "# assert lupi_result[0][2].shape == (grid_size, grid_size)\n",
    "\n",
    "# assert lupi_result_noise[0][0].shape == (grid_size, grid_size)\n",
    "# assert lupi_result_noise[0][1].shape == (grid_size, grid_size)\n",
    "# assert lupi_result_noise[0][2].shape == (grid_size, grid_size)\n",
    "\n",
    "assert conv_result[0][0].shape == (grid_size, grid_size)\n",
    "assert conv_result[0][1].shape == (grid_size, grid_size)\n",
    "assert conv_result[0][2].shape == (grid_size, grid_size)\n",
    "\n",
    "assert conv_result_noise[0][0].shape == (grid_size, grid_size)\n",
    "assert conv_result_noise[0][1].shape == (grid_size, grid_size)\n",
    "assert conv_result_noise[0][2].shape == (grid_size, grid_size)\n",
    "\n"
   ]
  },
  {
   "cell_type": "markdown",
   "metadata": {},
   "source": [
    "# Metric 1: Mean Accuracy\n",
    "\n",
    "To test how well the model performed, we can calculate the accuracy across the grid using MSE"
   ]
  },
  {
   "cell_type": "code",
   "execution_count": null,
   "metadata": {},
   "outputs": [],
   "source": [
    "performance = Performance(\n",
    "    result, dimensions)\n",
    "print(\n",
    "    \"FLAT NP: MSE accuracy was {:.8f}, with variance {:.8f}\".format(\n",
    "        performance.mean_accuracy, performance.var_accuracy\n",
    "    )\n",
    ")\n",
    "\n",
    "lupi_performance = Performance(lupi_result, dimensions)\n",
    "print(\n",
    "    \"LUPI NP: MSE accuracy was {:.8f}, with variance {:.8f}\".format(\n",
    "        lupi_performance.mean_accuracy, lupi_performance.var_accuracy\n",
    "    )\n",
    ")\n",
    "\n",
    "conv_performance = Performance(conv_result, dimensions)\n",
    "print(\n",
    "    \"CONVOLUTION: MSE accuracy was {:.8f}, with variance {:.8f}\".format(\n",
    "        conv_performance.mean_accuracy, performance.var_accuracy\n",
    "    )\n",
    ")"
   ]
  },
  {
   "cell_type": "markdown",
   "metadata": {},
   "source": [
    "# Plot Losses as Function of Epoch"
   ]
  },
  {
   "cell_type": "code",
   "execution_count": null,
   "metadata": {},
   "outputs": [],
   "source": [
    "plot_losses(loss=loss, lupi_loss=lupi_loss, conv_loss=conv_loss)"
   ]
  },
  {
   "cell_type": "markdown",
   "metadata": {},
   "source": [
    "# Fix this bug for GIF"
   ]
  },
  {
   "cell_type": "code",
   "execution_count": null,
   "metadata": {},
   "outputs": [],
   "source": [
    "y_out = y_out.reshape((max_iter_time, grid_size, grid_size))\n",
    "var_out = var_out.reshape((max_iter_time, grid_size, grid_size))\n",
    "y_target = y_target.reshape((max_iter_time, grid_size, grid_size))\n",
    "\n",
    "result = [\n",
    "    (y_target[id, :, :], y_out[id, :, :], var_out[id, :, :])\n",
    "    for id in range(y_target.shape[0])\n",
    "]\n",
    "\n",
    "# from heat_diffusion_dataset import Initial_Conditions, Diffusion_Data\n",
    "# import matplotlib.pyplot as plt\n",
    "import matplotlib.animation as animation\n",
    "from matplotlib.animation import FuncAnimation\n",
    "\n",
    "\n",
    "def plotheatmap(result_k, k, axes):\n",
    "    # Clear the current plot figure\n",
    "    plt.clf()\n",
    "    ax1, ax2, ax3 = axes\n",
    "\n",
    "    # plt.title(f\"Temperature at t = {k * delta_t:.3f} unit time\")\n",
    "    ax1.set_title(f\"Target at t = {k * 4 * np.pi / max_iter_time:.3f} unit time\")\n",
    "    ax1.set_xlabel(\"x\")\n",
    "    ax1.set_ylabel(\"y\")\n",
    "\n",
    "    ax2.set_title(\n",
    "        f\"Predicted Mean at t = {k * 4 * np.pi / max_iter_time:.3f} unit time\"\n",
    "    )\n",
    "    ax2.set_xlabel(\"x\")\n",
    "    ax2.set_ylabel(\"y\")\n",
    "\n",
    "    ax3.set_title(f\"Predicted Var at t = {k * 4 * np.pi / max_iter_time:.3f} unit time\")\n",
    "    ax3.set_xlabel(\"x\")\n",
    "    ax3.set_ylabel(\"y\")\n",
    "\n",
    "    # This is to plot u_k (u at time-step k)\n",
    "    ax1.pcolormesh(result_k[0], cmap=plt.cm.jet, vmin=-1.1, vmax=1.1)\n",
    "    ax2.pcolormesh(result_k[1], cmap=plt.cm.jet, vmin=-1.1, vmax=1.1)\n",
    "    ax3.pcolormesh(result_k[2], cmap=plt.cm.jet, vmin=-1.1, vmax=1.1)\n",
    "\n",
    "    return fig, axes\n",
    "\n",
    "\n",
    "def animate(k):\n",
    "    plotheatmap(result[k], k)\n",
    "\n",
    "    # if not plot_var and not target:\n",
    "    #     plotheatmap(y_out[k], k, delta_t)\n",
    "    # elif plot_var and not target:\n",
    "    #     plotheatmap(var_out[k], k, delta_t)\n",
    "    # else:\n",
    "    #     plotheatmap(y_target[k], k, delta_t)\n",
    "\n",
    "\n",
    "# plot_var = False\n",
    "# target = False\n",
    "fig, axes = plt.subplots(ncols=3, figsize=(15, 4))\n",
    "\n",
    "anim = animation.FuncAnimation(\n",
    "    fig, animate, interval=1, frames=max_iter_time, repeat=False, fargs=(axes,)\n",
    ")\n",
    "anim.save(\"harmonics_solution.gif\")\n",
    "\n",
    "# plot_var=True\n",
    "# anim = animation.FuncAnimation(plt.figure(), animate, interval=1, frames=max_iter_time, repeat=False, fargs=None)\n",
    "# anim.save(\"harmonics_variance.gif\")\n",
    "\n",
    "# target=True\n",
    "# anim = animation.FuncAnimation(plt.figure(), animate, interval=1, frames=max_iter_time, repeat=False, fargs=None)\n",
    "# anim.save(\"harmonics_target.gif\")"
   ]
  }
 ],
 "metadata": {
  "kernelspec": {
   "display_name": "Python 3.9.13 64-bit",
   "language": "python",
   "name": "python3"
  },
  "language_info": {
   "codemirror_mode": {
    "name": "ipython",
    "version": 3
   },
   "file_extension": ".py",
   "mimetype": "text/x-python",
   "name": "python",
   "nbconvert_exporter": "python",
   "pygments_lexer": "ipython3",
   "version": "3.9.13"
  },
  "orig_nbformat": 4,
  "vscode": {
   "interpreter": {
    "hash": "aee8b7b246df8f9039afb4144a1f6fd8d2ca17a180786b69acc140d282b71a49"
   }
  }
 },
 "nbformat": 4,
 "nbformat_minor": 2
}
